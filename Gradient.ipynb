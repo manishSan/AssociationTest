{
  "cells": [
    {
      "cell_type": "markdown",
      "metadata": {
        "id": "view-in-github",
        "colab_type": "text"
      },
      "source": [
        "<a href=\"https://colab.research.google.com/github/manishSan/AssociationTest/blob/master/Gradient.ipynb\" target=\"_parent\"><img src=\"https://colab.research.google.com/assets/colab-badge.svg\" alt=\"Open In Colab\"/></a>"
      ]
    },
    {
      "cell_type": "markdown",
      "metadata": {
        "id": "owQ_FPfHEIOY"
      },
      "source": [
        "# Problem Set 3\n",
        "In this problem set you will get some practice with gradient descent and sub-gradient descent. There is a template for setting up your code and plotting your results at the end of this notebook, which you may find useful. Note that it is only a suggestion -- you are not required to use it."
      ]
    },
    {
      "cell_type": "markdown",
      "metadata": {
        "id": "fY6Ysm1TELWc"
      },
      "source": [
        "## Problem 1: Gradient Descent\n",
        "Consider three quadratics, as given by:\n",
        "$$\n",
        "f_i(x) = \\frac{1}{2} x^{\\top}Q_ix + q_i^{\\top} x + c_i,\n",
        "$$\n",
        "for the three triples $(Q_i,q_i,c_i)$, $i=1,2,3$ given below."
      ]
    },
    {
      "cell_type": "code",
      "execution_count": 1,
      "metadata": {
        "id": "UqMCBxayEMT4"
      },
      "outputs": [],
      "source": [
        "import numpy as np\n",
        "Q1 = np.array([[ 1.17091573, -0.03686123, -0.1001259 ],\n",
        "       [-0.03686123,  1.03835691,  0.17285956],\n",
        "       [-0.1001259 ,  0.17285956,  1.06072736]])\n",
        "Q2 = np.array([[ 15.27095759,  -1.97915834, -14.22190153],\n",
        "       [ -1.97915834,   0.34660759,   1.91586927],\n",
        "       [-14.22190153,   1.91586927,  15.76943482]])\n",
        "Q3 = np.array([[28.59657006,  0.3684004 ,  0.90750259],\n",
        "       [ 0.3684004 , 28.11480924,  0.81866989],\n",
        "       [ 0.90750259,  0.81866989, 28.7886207 ]])\n",
        "q1 = np.array([-4.68686663, -0.89027884, -1.57340281])\n",
        "q2 = np.array([ 6.75973216,  1.23223936, -0.87956749])\n",
        "q3 = np.array([ 0.8684369 , -4.69970837, -1.09690726])\n",
        "c1 = 1.61888566;\n",
        "c2 = -2.66426693;\n",
        "c3 = 0.84184738;"
      ]
    },
    {
      "cell_type": "markdown",
      "metadata": {
        "id": "b4pg_ZIgESeA"
      },
      "source": [
        "### Part (A)\n",
        "Implement gradient descent with a step-size of $0.1$ for all three quadratics, and plot function value versus iteration number. Explain what you see."
      ]
    },
    {
      "cell_type": "markdown",
      "metadata": {
        "id": "U9ANlWM5MPY2"
      },
      "source": [
        "#### Gradient Descent Algorithm\n",
        "\n",
        "$$\n",
        "\\nabla f_i(x) = Q_ix + q_i^{\\top}\n",
        "$$"
      ]
    },
    {
      "cell_type": "code",
      "execution_count": 2,
      "metadata": {
        "id": "yT4geTujD4s9"
      },
      "outputs": [],
      "source": [
        "from __future__ import division\n",
        "import numpy as np\n",
        "import numpy.random as rn\n",
        "import numpy.linalg as la\n",
        "import matplotlib.pyplot as plt\n",
        "import time\n",
        "\n",
        "# ∇𝑓𝑖(𝑥)=𝑄𝑖𝑥+𝑞⊤𝑖\n",
        "\n",
        "def gradient(x, Q, q):\n",
        "    return np.dot(Q, x) + q\n",
        "    # return Q @ x + q\n",
        "\n",
        "def hessian(x, Q, q):\n",
        "    return Q\n",
        "    \n",
        "# def gradient_descent_step()\n",
        "    \n",
        "def gradient_descent(x_0, learning_rate, precision, Q_1, q_1, c_1):\n",
        "    iteration_count = 0\n",
        "    prev_x = np.zeros((3,1))\n",
        "    current_change = float('inf')\n",
        "    x = x_0\n",
        "\n",
        "    value_by_iteration = [x]\n",
        "\n",
        "    while current_change > precision:\n",
        "        # calculate gradient\n",
        "        grad = gradient(x, Q_1, q_1)\n",
        "        # test if gradient is in the valid range\n",
        "        if np.isposinf(abs(grad.flat[np.abs(grad).argmax()])):\n",
        "            break\n",
        "        \n",
        "        # descend\n",
        "        prev_x = x\n",
        "        x = x - learning_rate * grad\n",
        "        # set variables\n",
        "        iteration_count += 1\n",
        "        move = prev_x - x\n",
        "        current_change = abs(move.flat[np.abs(move).argmax()])\n",
        "        value_by_iteration += [x]\n",
        "        \n",
        "        # print(f'value of x: {x}, at iteration: {iteration_count}, change: {current_change}')\n",
        "        # print(f'value of grad: {grad}, at iteration: {iteration_count}, change: {current_change}')\n",
        "    return value_by_iteration"
      ]
    },
    {
      "cell_type": "code",
      "execution_count": 3,
      "metadata": {
        "id": "gdTXJaW6MPY3"
      },
      "outputs": [],
      "source": [
        "def compute_function(x, Q, q, c):\n",
        "    return (np.transpose(x) @ Q @ x + np.transpose(q) @ x + c) / 2\n",
        "\n",
        "def compute_function_for_all_iterations(val_by_iteration, Q, q, c):\n",
        "    return [compute_function(x, Q, q, c) for x in val_by_iteration]"
      ]
    },
    {
      "cell_type": "markdown",
      "metadata": {
        "id": "kC4kEd18MPY3"
      },
      "source": [
        "#### Solution Part (A)"
      ]
    },
    {
      "cell_type": "code",
      "execution_count": 4,
      "metadata": {
        "colab": {
          "base_uri": "https://localhost:8080/",
          "height": 366
        },
        "id": "iiYNSuWRMPY3",
        "outputId": "23a59117-2753-4c70-8536-fd6bcc64a47d"
      },
      "outputs": [
        {
          "output_type": "stream",
          "name": "stderr",
          "text": [
            "<ipython-input-3-212382034aa0>:2: RuntimeWarning: overflow encountered in matmul\n",
            "  return (np.transpose(x) @ Q @ x + np.transpose(q) @ x + c) / 2\n",
            "/usr/local/lib/python3.8/dist-packages/matplotlib/ticker.py:2161: RuntimeWarning: overflow encountered in multiply\n",
            "  steps = self._extended_steps * scale\n"
          ]
        },
        {
          "output_type": "display_data",
          "data": {
            "text/plain": [
              "<Figure size 432x288 with 3 Axes>"
            ],
            "image/png": "[encoded data removed]"
          },
          "metadata": {
            "needs_background": "light"
          }
        }
      ],
      "source": [
        "# x_0 = np.zeros(Q1.shape[1])\n",
        "x_0 = np.random.random(Q1.shape[1])\n",
        "# print(x_0)\n",
        "learning_rate = 0.1\n",
        "precision = 0.01\n",
        "g_d_eq1 = gradient_descent(x_0, learning_rate, precision, Q1, q1, c1)\n",
        "g_d_eq2 = gradient_descent(x_0, learning_rate, precision, Q2, q2, c2)\n",
        "g_d_eq3 = gradient_descent(x_0, learning_rate, precision, Q3, q3, c3)\n",
        "\n",
        "f1 = compute_function_for_all_iterations(g_d_eq1, Q1, q1, c1)\n",
        "f2 = compute_function_for_all_iterations(g_d_eq2, Q2, q2, c2)\n",
        "f3 = compute_function_for_all_iterations(g_d_eq3, Q3, q3, c3)\n",
        "\n",
        "fig, (ax1, ax2, ax3) = plt.subplots(nrows=3, ncols=1)\n",
        "\n",
        "ax1.margins(x=0.05, y=0.25)\n",
        "ax1.plot(range(0, len(f1)), f1)\n",
        "ax1.set_title(\"Quadratic 1\")\n",
        "\n",
        "ax2.margins(x=0.05, y=0.25)\n",
        "ax2.plot(range(0, len(f2)), f2)\n",
        "ax2.set_title(\"Quadratic 2\")\n",
        "\n",
        "ax3.margins(x=0.05, y=0.25)\n",
        "ax3.plot(range(0, len(f3)), f3)\n",
        "ax3.set_title(\"Quadratic 3\")\n",
        "\n",
        "fig.tight_layout()\n",
        "\n",
        "plt.show()"
      ]
    },
    {
      "cell_type": "markdown",
      "metadata": {
        "id": "rOQywlsrMPY4"
      },
      "source": [
        "#### Explanation Part (A)\n",
        "\n"
      ]
    },
    {
      "cell_type": "markdown",
      "metadata": {
        "id": "6oNV2Pp-EWKH"
      },
      "source": [
        "### Part (B)\n",
        "Find a step-size for each quadratic (it can be different for each), and implement gradient descent with this stepsize. Plot function value versus iteration number. Try to pick a step size that gives you fast convergence. How did you pick it?"
      ]
    },
    {
      "cell_type": "code",
      "execution_count": 5,
      "metadata": {
        "id": "jca6haREMPY4"
      },
      "outputs": [],
      "source": [
        "def is_pos_def(x):\n",
        "    return np.all(np.linalg.eigvals(x) > 0)"
      ]
    },
    {
      "cell_type": "markdown",
      "metadata": {
        "id": "QeQV-VHYMPY4"
      },
      "source": [
        "Our assumption is the $\\nabla f$ is Lipschitz continuous with constant L. That Lipschitz constant $L$ can be estimated by inequality $\\nabla^2 f < LI$.\n",
        "\n",
        "Once we have Lipschitz constant the fix learning rate can be set to $\\eta \\leq 1/L$\n",
        "\n",
        "credit - https://www.stat.cmu.edu/~ryantibs/convexopt-F13/scribes/lec6.pdf"
      ]
    },
    {
      "cell_type": "code",
      "execution_count": 6,
      "metadata": {
        "colab": {
          "base_uri": "https://localhost:8080/",
          "height": 349
        },
        "id": "P2jTgotKMPY4",
        "outputId": "56fbd9dc-53b0-45af-9d4b-139a7c6f3f3f"
      },
      "outputs": [
        {
          "output_type": "stream",
          "name": "stdout",
          "text": [
            "Learning rate for first quadratic 0.5229298798653527\n",
            "Learning rate for second quadratic 0.033301941273249105\n",
            "Learning rate for third quadratic 0.020243371223103077\n"
          ]
        },
        {
          "output_type": "display_data",
          "data": {
            "text/plain": [
              "<Figure size 432x288 with 3 Axes>"
            ],
            "image/png": "[encoded data removed]"
          },
          "metadata": {
            "needs_background": "light"
          }
        }
      ],
      "source": [
        "\n",
        "# x_0 = np.zeros(Q1.shape[1])\n",
        "x_0 = np.random.random(Q1.shape[1])\n",
        "# print(x_0)\n",
        "L1 = np.linalg.norm(hessian(x_0, Q1, q1))\n",
        "learning_rate_1 = 1/ L1\n",
        "print(f'Learning rate for first quadratic {learning_rate_1}')\n",
        "\n",
        "L2 = np.linalg.norm(hessian(x_0, Q2, q2))\n",
        "learning_rate_2 = 1 / L2\n",
        "print(f'Learning rate for second quadratic {learning_rate_2}')\n",
        "\n",
        "L3 = np.linalg.norm(hessian(x_0, Q3, q3))\n",
        "learning_rate_3 = 1 / L3\n",
        "print(f'Learning rate for third quadratic {learning_rate_3}')\n",
        "\n",
        "\n",
        "precision = 0.01\n",
        "g_d_eq1 = gradient_descent(x_0, learning_rate_1, precision, Q1, q1, c1)\n",
        "g_d_eq2 = gradient_descent(x_0, learning_rate_2, precision, Q2, q2, c2)\n",
        "g_d_eq3 = gradient_descent(x_0, learning_rate_3, precision, Q3, q3, c3)\n",
        "\n",
        "f1 = compute_function_for_all_iterations(g_d_eq1, Q1, q1, c1)\n",
        "f2 = compute_function_for_all_iterations(g_d_eq2, Q2, q2, c2)\n",
        "f3 = compute_function_for_all_iterations(g_d_eq3, Q3, q3, c3)\n",
        "\n",
        "fig, (ax1, ax2, ax3) = plt.subplots(nrows=3, ncols=1)\n",
        "\n",
        "ax1.margins(x=0.05, y=0.25)\n",
        "ax1.plot(range(0, len(f1)), f1)\n",
        "ax1.set_title(\"Quadratic 1\")\n",
        "\n",
        "ax2.margins(x=0.05, y=0.25)\n",
        "ax2.plot(range(0, len(f2)), f2)\n",
        "ax2.set_title(\"Quadratic 2\")\n",
        "\n",
        "ax3.margins(x=0.05, y=0.25)\n",
        "ax3.plot(range(0, len(f3)), f3)\n",
        "ax3.set_title(\"Quadratic 3\")\n",
        "\n",
        "fig.tight_layout()\n",
        "\n",
        "plt.show()"
      ]
    },
    {
      "cell_type": "markdown",
      "metadata": {
        "id": "rXGLnr8zEYKu"
      },
      "source": [
        "### Part (C)\n",
        "Even with your carefully tuned choice of step size, you will see that the rates of convergence are not the same, Explain why this is the case.\n",
        "\n",
        "#### Answer\n",
        "\n",
        "GD is a local decision making algorithm. That means at each point we take gradient, we are making a local decision about a possible path for descend. This path may or may not aligh with *Global descend path*. This is the reason some quadratics tends to converge faster, but other zig-zag around for a while.\n",
        "\n",
        "In general if the level set of f(x) is circular, GD tends to converge faster but when the level set of f(x) is elliptic, GD zigzags and therefore it is slow."
      ]
    },
    {
      "cell_type": "markdown",
      "metadata": {
        "id": "m1iEjab2EclQ"
      },
      "source": [
        "### Part (D) -- Optional -- \n",
        "Read about back tracking line search (BTLS) and implement it here. "
      ]
    },
    {
      "cell_type": "markdown",
      "metadata": {
        "id": "xJH2x4f3MPY5"
      },
      "source": [
        "1. First set a parameter $\\beta \\in [0, 1]$\n",
        "2. Set a parameter $\\alpha \\in [0, 0.5]$\n",
        "2. Then at each iteration, start with $t = 1$, and while \\\n",
        "$f(x - t\\nabla f(x)) > f(x) - \\alpha t . \\nabla f(x)^T \n",
        "\\frac{t}{2}||\\nabla f(x)||^2$ \\\n",
        "update $t = \\beta t$\n",
        "\n",
        "https://sites.math.washington.edu/~burke/crs/516/notes/backtracking.pdf"
      ]
    },
    {
      "cell_type": "code",
      "execution_count": 7,
      "metadata": {
        "colab": {
          "base_uri": "https://localhost:8080/"
        },
        "id": "0lMWSNaeMPY5",
        "outputId": "8f0ccfe9-1c68-4929-9710-008de886a28d"
      },
      "outputs": [
        {
          "output_type": "stream",
          "name": "stdout",
          "text": [
            "BTLS learning rate for first quadratic: 0.5120000000000001\n",
            "BTLS learning rate for second quadratic: 0.03518437208883203\n",
            "BTLS learning rate for third quadratic: 0.022517998136852502\n"
          ]
        }
      ],
      "source": [
        "def backtrace(x_0, Q, q, c):\n",
        "    # Initialize\n",
        "    alpha = 0.3\n",
        "    beta = 0.8\n",
        "    t = 1\n",
        "    x = x_0\n",
        "\n",
        "    # Iteration\n",
        "    while compute_function((x - t * gradient(x, Q, q)), Q, q, c) > (compute_function(x, Q, q, c) - (alpha *(np.linalg.norm(gradient(x, Q, q), 2) ** 2) * t / 2)):\n",
        "        t *= beta\n",
        "\n",
        "    return t\n",
        "\n",
        "bt_learning_rate_1 = backtrace(np.zeros(Q1.shape[1]), Q1, q1, c1)\n",
        "bt_learning_rate_2 = backtrace(np.zeros(Q2.shape[1]), Q2, q2, c2)\n",
        "bt_learning_rate_3 = backtrace(np.zeros(Q3.shape[1]), Q3, q3, c3)\n",
        "\n",
        "print(f'BTLS learning rate for first quadratic: {bt_learning_rate_1}')\n",
        "print(f'BTLS learning rate for second quadratic: {bt_learning_rate_2}')\n",
        "print(f'BTLS learning rate for third quadratic: {bt_learning_rate_3}')"
      ]
    },
    {
      "cell_type": "markdown",
      "metadata": {
        "id": "Nh1qRKIlElT_"
      },
      "source": [
        "## Problem 2: Sub-gradient Method\n",
        "Consider a least squares problem with $\\ell^1$ regularization:\n",
        "$$\n",
        "\\min_x \\left[f(x) = \\frac{1}{2}\\|{Ax-b}\\|_2^2 + \\lambda \\|{x}\\|_1 \\right]\n",
        "$$\n",
        "\n",
        "This problem is often called LASSO (least absolute shrinkage and selection operator) and is known to induce {\\em sparse} solutions with few nonzero elements in $x$, which can have advantages in terms of computation and interpretability. This problem is nonsmooth due to the regularization term. It is also not strongly convex when $A$ has more columns than rows. We (i.e., you) will solve this problem using several different algorithms in this class. We start with what we have seen thus far: the subgradient method. \n",
        "\n",
        "The dataset represented in the matrices provided in the numpy binary files A.npy and b.npy are from a diabetes dataset (scikit-learn.org/stable/modules/generated/sklearn.datasets.load_diabetes.html) with 10 features that has been corrupted with an additional 90 noisy features. Thus a sparse solution should be very effective. Below you will find some skeleton code to help with loading the data, running the algorithm and plotting the results. Don't use stock optimization code, you should develop the core part of this assignment yourself."
      ]
    },
    {
      "cell_type": "markdown",
      "metadata": {
        "id": "vlwKNrNcEp7F"
      },
      "source": [
        "Minimize $f(x)$ using $10^4$ iterations of the subgradient method starting with $t=0$ and $x_0 =0$. \n",
        "\n",
        "### Part (A)\n",
        "Use a decreasing step size of $\\eta_t = c/t$ with values for $c$ that (roughly) optimize the empirical performance. Separately record the (unsquared) error $\\|Ax_t-b\\|$ and the regularization term $\\|x\\|_1$.\n",
        "\n",
        "### Part (B) \n",
        "Now use a more slowly decreasing step size of $\\eta_t = c/\\sqrt{t+1}$ with values for $c$ that (roughly) optimize the empirical performance. Separately record the (unsquared) error $\\|Ax_t-b\\|$ and the regularization term $\\|x\\|_1$.\n",
        "\n",
        "### Part (C)\n",
        "Now try to find the best fixed step size. Plot the results and compare to the decreasing step size you see above. \n",
        "\n",
        "### Part (D) -- Optional --\n",
        "If you did the BTLS optional part above, either implement BTLS for subgradient method, or explain why the challenges are with this. \n"
      ]
    },
    {
      "cell_type": "markdown",
      "metadata": {
        "id": "lgEPG09USxT8"
      },
      "source": [
        "Here is a template that may be useful. Note that it is designed for the LASSO problem, so you will have to modify it to use it for the quadratic problems at the beginning, but the ideas are the same."
      ]
    },
    {
      "cell_type": "code",
      "execution_count": 8,
      "metadata": {
        "id": "vU1ReScpEqks"
      },
      "outputs": [],
      "source": [
        "from __future__ import division\n",
        "import numpy as np\n",
        "import numpy.random as rn\n",
        "import numpy.linalg as la\n",
        "import matplotlib.pyplot as plt\n",
        "from matplotlib.pyplot import figure\n",
        "import time\n",
        "\n",
        "def subgradient(x, A, b, lam, c=1e-5):\n",
        "    # update x (your code here), set c above\n",
        "    return (np.dot(A, x) - b) @ A + lam * np.sign(x)\n",
        "\n",
        "def compute_lasso(x, A, b, lam):\n",
        "    return pow(np.linalg.norm(np.dot(A, x) - b, 2), 2) / 2 + lam * np.linalg.norm(x, 1)\n",
        "\n",
        "def descent(update, learning_rate, A, b, reg, T=int(1e4)):\n",
        "    x = np.zeros(A.shape[1])\n",
        "    error = []\n",
        "    l1 = []\n",
        "    c=1e-5\n",
        "    for t in range(T):\n",
        "        # update A (here subgradient, but you can re-use when we develop other algorithms)\n",
        "        g = update(x, A, b, reg, c=c)\n",
        "\n",
        "        eta = learning_rate(c, t)\n",
        "        x = x - eta * g\n",
        "        \n",
        "        # print(f'x value - {x} in iteration {t}')\n",
        "        \n",
        "        # record error and l1 norm\n",
        "        if (t % 1 == 0) or (t == T - 1):\n",
        "            error.append(la.norm(np.dot(A, x) - b))\n",
        "            l1.append(np.sum(abs(x)))\n",
        "\n",
        "            assert not np.isnan(error[-1])\n",
        "\n",
        "    return x, error, l1\n",
        "\n",
        "def plot(error_sg, l1_sg, name):\n",
        "    \n",
        "    fig, (ax1, ax2) = plt.subplots(nrows=1, ncols=2)\n",
        "\n",
        "    ax1.margins(x=0.05, y=0.25)\n",
        "    ax1.plot(error_sg, label='Subgradient')\n",
        "    ax1.set_title('Error')\n",
        "    ax1.legend()\n",
        "\n",
        "    ax2.margins(x=0.05, y=0.25)\n",
        "    ax2.plot(l1_sg, label='Subgradient')\n",
        "    ax2.set_title(\"$\\ell^1$ Norm\")\n",
        "    ax2.legend()\n",
        "\n",
        "    fig.tight_layout()\n",
        "    # figure(figsize=(20, 6), dpi=80)\n",
        "    plt.show()\n",
        "    plt.savefig(name)\n",
        "    "
      ]
    },
    {
      "cell_type": "markdown",
      "metadata": {
        "id": "-Ighl2MjMPY6"
      },
      "source": [
        "#### Solution part (A)\n",
        "$ subgradient (f(x)) = (Ax - b)A + \\lambda * subgradient(|x|) $ \\ \n",
        "\n",
        "where \n",
        "\n",
        "$\\begin{equation} subgradient(|x|) = 1 \\text{ if } x > 0, \\\\\n",
        "                  -1 \\text{ if } x < 0, \\\\\n",
        "                   \\in [-1,1] \\text{ if } x = 0 \n",
        "                   \\end{equation}$\n",
        "\n",
        "We can also write this as \n",
        "\n",
        "$\\begin{equation} subgradient(|x|) = sign(x)\n",
        "                   \\end{equation}$\n"
      ]
    },
    {
      "cell_type": "code",
      "execution_count": 9,
      "metadata": {
        "colab": {
          "base_uri": "https://localhost:8080/",
          "height": 314
        },
        "id": "6oogMxY-MPY6",
        "outputId": "cd5b3de4-f6eb-4132-f6bf-baa83e4136cb"
      },
      "outputs": [
        {
          "output_type": "display_data",
          "data": {
            "text/plain": [
              "<Figure size 432x288 with 2 Axes>"
            ],
            "image/png": "[encoded data removed]"
          },
          "metadata": {
            "needs_background": "light"
          }
        },
        {
          "output_type": "display_data",
          "data": {
            "text/plain": [
              "<Figure size 432x288 with 0 Axes>"
            ]
          },
          "metadata": {}
        }
      ],
      "source": [
        "A = np.load(\"A.npy\")\n",
        "b = np.load(\"b.npy\")\n",
        "T=int(1e4)\n",
        "\n",
        "def decresing_learning_rate(c, t):\n",
        "    if (t == 0): return c\n",
        "    else: return c / t\n",
        "    \n",
        "# modify regularization parameters below\n",
        "x_sg, error_sg, l1_sg = descent(subgradient, decresing_learning_rate, A, b, reg=0.8, T=T)\n",
        "\n",
        "plot(error_sg, l1_sg, 'decresing_learning_rate.eps')"
      ]
    },
    {
      "cell_type": "markdown",
      "metadata": {
        "id": "GpPQof0IMPY6"
      },
      "source": [
        "#### Solution part (B)"
      ]
    },
    {
      "cell_type": "code",
      "execution_count": 10,
      "metadata": {
        "colab": {
          "base_uri": "https://localhost:8080/",
          "height": 314
        },
        "id": "QtbdMjFUMPY6",
        "outputId": "2891d6a8-cddf-4f4f-f1dc-e0d85296b6dc"
      },
      "outputs": [
        {
          "output_type": "display_data",
          "data": {
            "text/plain": [
              "<Figure size 432x288 with 2 Axes>"
            ],
            "image/png": "[encoded data removed]"
          },
          "metadata": {
            "needs_background": "light"
          }
        },
        {
          "output_type": "display_data",
          "data": {
            "text/plain": [
              "<Figure size 432x288 with 0 Axes>"
            ]
          },
          "metadata": {}
        }
      ],
      "source": [
        "A = np.load(\"A.npy\")\n",
        "b = np.load(\"b.npy\")\n",
        "T=int(1e4)\n",
        "def slow_learning_rate(c, t):\n",
        "    return (c / np.sqrt(t + 1))\n",
        "        \n",
        "    # modify regularization parameters below\n",
        "x_sg, error_sg, l1_sg = descent(subgradient, slow_learning_rate, A, b, reg=0.1, T=T)\n",
        "\n",
        "plot(error_sg, l1_sg, 'slow_learning_rate.eps')"
      ]
    },
    {
      "cell_type": "code",
      "execution_count": 11,
      "metadata": {
        "colab": {
          "base_uri": "https://localhost:8080/",
          "height": 314
        },
        "id": "0e1xIUtVMPY6",
        "outputId": "db1c563e-a290-44d4-ce6a-bd4ef354d1b0"
      },
      "outputs": [
        {
          "output_type": "display_data",
          "data": {
            "text/plain": [
              "<Figure size 432x288 with 2 Axes>"
            ],
            "image/png": "[encoded data removed]"
          },
          "metadata": {
            "needs_background": "light"
          }
        },
        {
          "output_type": "display_data",
          "data": {
            "text/plain": [
              "<Figure size 432x288 with 0 Axes>"
            ]
          },
          "metadata": {}
        }
      ],
      "source": [
        "# Now try to find the best fixed step size. Plot the results and compare to the decreasing step size you see above. \n",
        "# \n",
        "# a choice of fixed setp size could be eta = 1 / sqrt(iterations)\n",
        "\n",
        "A = np.load(\"A.npy\")\n",
        "b = np.load(\"b.npy\")\n",
        "T=int(1e4)\n",
        "def fixed_learning_rate(c, t):\n",
        "    return 1 / T\n",
        "        \n",
        "    # modify regularization parameters below\n",
        "x_sg, error_sg, l1_sg = descent(subgradient, fixed_learning_rate, A, b, reg=0.1, T=T)\n",
        "\n",
        "plot(error_sg, l1_sg, 'fixed_learning_rate.eps')"
      ]
    },
    {
      "cell_type": "markdown",
      "metadata": {
        "id": "OtLd8sSxMPY6"
      },
      "source": [
        "#### Solution (D)\n",
        "\n",
        "Backtracking line search for Subgradient descent\n",
        "\n",
        "1. First set a parameter $\\beta \\in [0, 1]$\n",
        "2. Set a parameter $\\alpha \\in [0, 0.5]$\n",
        "2. Then at each iteration, start with $t = 1$, and while \\\n",
        "$f(x - t\\nabla f(x)) > f(x) - \\alpha t . \\nabla f(x)^T \n",
        "\\frac{t}{2}||\\nabla f(x)||^2$ \\\n",
        "update $t = \\beta t$"
      ]
    },
    {
      "cell_type": "code",
      "execution_count": 12,
      "metadata": {
        "colab": {
          "base_uri": "https://localhost:8080/",
          "height": 332
        },
        "id": "lwuvEgFTMPY6",
        "outputId": "f82cf5c8-8754-4aa5-c12c-1da83d9c9feb"
      },
      "outputs": [
        {
          "output_type": "stream",
          "name": "stdout",
          "text": [
            "BTLS learning rate for lasso: 0.0009903520314283058\n"
          ]
        },
        {
          "output_type": "display_data",
          "data": {
            "text/plain": [
              "<Figure size 432x288 with 2 Axes>"
            ],
            "image/png": "[encoded data removed]"
          },
          "metadata": {
            "needs_background": "light"
          }
        },
        {
          "output_type": "display_data",
          "data": {
            "text/plain": [
              "<Figure size 432x288 with 0 Axes>"
            ]
          },
          "metadata": {}
        }
      ],
      "source": [
        "A = np.load(\"A.npy\")\n",
        "b = np.load(\"b.npy\")\n",
        "reg=0.1\n",
        "def backtrace_subgradient(x_0, A, b):\n",
        "    # Initialize\n",
        "    alpha = 0.3\n",
        "    beta = 0.8\n",
        "    t = 1\n",
        "    x = x_0\n",
        "\n",
        "    # Iteration\n",
        "    while compute_lasso((x - t * subgradient(x, A, b, reg)), A, b, reg) > (compute_lasso(x, A, b, reg) - (alpha *(np.linalg.norm(subgradient(x, A, b, reg)) ** 2) * t / 2)):\n",
        "        t *= beta\n",
        "\n",
        "    return t\n",
        "\n",
        "bt_learning_rate = backtrace_subgradient(np.zeros(A.shape[1]), A, b)\n",
        "\n",
        "print(f'BTLS learning rate for lasso: {bt_learning_rate}')\n",
        "\n",
        "x_sg, error_sg, l1_sg = descent(subgradient, lambda a, b: bt_learning_rate, A, b, reg=0.1, T=T)\n",
        "plot(error_sg, l1_sg, 'blts.eps')"
      ]
    }
  ],
  "metadata": {
    "colab": {
      "provenance": [],
      "include_colab_link": true
    },
    "kernelspec": {
      "display_name": "pytorch",
      "language": "python",
      "name": "python3"
    },
    "language_info": {
      "codemirror_mode": {
        "name": "ipython",
        "version": 3
      },
      "file_extension": ".py",
      "mimetype": "text/x-python",
      "name": "python",
      "nbconvert_exporter": "python",
      "pygments_lexer": "ipython3",
      "version": "3.10.8"
    },
    "vscode": {
      "interpreter": {
        "hash": "a1e6277ece329b7d2e420d64cdef17db01f48a331c92ae82a2f682e11f2ce7f2"
      }
    }
  },
  "nbformat": 4,
  "nbformat_minor": 0
}